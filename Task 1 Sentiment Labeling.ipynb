{
 "cells": [
  {
   "cell_type": "code",
   "execution_count": 2,
   "id": "68844014",
   "metadata": {},
   "outputs": [
    {
     "name": "stderr",
     "output_type": "stream",
     "text": [
      "Classifying with Neutral:   0%|          | 0/2191 [00:00<?, ?it/s]Asking to truncate to max_length but no maximum length is provided and the model has no predefined maximum length. Default to no truncation.\n",
      "Classifying with Neutral: 100%|██████████| 2191/2191 [02:17<00:00, 15.96it/s]"
     ]
    },
    {
     "name": "stdout",
     "output_type": "stream",
     "text": [
      "Done.\n",
      "sentiment\n",
      "Neutral     1485\n",
      "Positive     558\n",
      "Negative     148\n",
      "Name: count, dtype: int64\n"
     ]
    },
    {
     "name": "stderr",
     "output_type": "stream",
     "text": [
      "\n"
     ]
    }
   ],
   "source": [
    "import pandas as pd\n",
    "from transformers import AutoTokenizer, AutoModelForSequenceClassification\n",
    "import torch\n",
    "from tqdm import tqdm\n",
    "import numpy as np\n",
    "import torch.nn.functional as F\n",
    "\n",
    "df = pd.read_csv(\"test.csv\")\n",
    "df = df.dropna(subset=[\"body\"])\n",
    "\n",
    "model_name = \"cardiffnlp/twitter-roberta-base-sentiment\"\n",
    "tokenizer = AutoTokenizer.from_pretrained(model_name)\n",
    "model = AutoModelForSequenceClassification.from_pretrained(model_name)\n",
    "model.eval()\n",
    "\n",
    "label_map = {0: \"Negative\", 1: \"Neutral\", 2: \"Positive\"}\n",
    "\n",
    "device = torch.device(\"cuda\" if torch.cuda.is_available() else \"cpu\")\n",
    "model.to(device)\n",
    "\n",
    "# Updated classification function to include Neutral\n",
    "def classify_sentiment(text):\n",
    "    if not isinstance(text, str) or len(text.strip()) == 0:\n",
    "        return \"Neutral\"  # or any default fallback\n",
    "\n",
    "    # Tokenize input\n",
    "    inputs = tokenizer(text[:512], return_tensors=\"pt\", truncation=True).to(device)\n",
    "    with torch.no_grad():\n",
    "        outputs = model(**inputs)\n",
    "        probs = F.softmax(outputs.logits, dim=-1).squeeze().cpu().numpy()\n",
    "\n",
    "    label_id = np.argmax(probs)\n",
    "    return label_map[label_id]\n",
    "\n",
    "# Apply classification\n",
    "tqdm.pandas(desc=\"Classifying with Neutral\")\n",
    "df[\"sentiment\"] = df[\"body\"].progress_apply(classify_sentiment)\n",
    "\n",
    "df.to_csv(\"sentiment_practice_output.csv\", index=False)\n",
    "print(\"Done.\")\n",
    "print(df[\"sentiment\"].value_counts())\n"
   ]
  }
 ],
 "metadata": {
  "kernelspec": {
   "display_name": "Python 3",
   "language": "python",
   "name": "python3"
  },
  "language_info": {
   "codemirror_mode": {
    "name": "ipython",
    "version": 3
   },
   "file_extension": ".py",
   "mimetype": "text/x-python",
   "name": "python",
   "nbconvert_exporter": "python",
   "pygments_lexer": "ipython3",
   "version": "3.8.2"
  }
 },
 "nbformat": 4,
 "nbformat_minor": 5
}
