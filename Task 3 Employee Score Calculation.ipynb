{
 "cells": [
  {
   "cell_type": "code",
   "execution_count": null,
   "id": "9bf508d7",
   "metadata": {},
   "outputs": [
    {
     "name": "stdout",
     "output_type": "stream",
     "text": [
      "Done.\n",
      "                      employee    month  sentiment_score\n",
      "0  bobette.riner@ipgdirect.com  2010-01                0\n",
      "1  bobette.riner@ipgdirect.com  2010-02                0\n",
      "2  bobette.riner@ipgdirect.com  2010-03                1\n",
      "3  bobette.riner@ipgdirect.com  2010-04                3\n",
      "4  bobette.riner@ipgdirect.com  2010-05                0\n",
      "\n",
      "Saved to: c:\\Users\\Youyou Du\\AppData\\Local\\Programs\\Microsoft VS Code\\monthly_employee_scores.csv\n"
     ]
    }
   ],
   "source": [
    "import pandas as pd\n",
    "import os\n",
    "\n",
    "df = pd.read_csv(\"sentiment_practice_output.csv\")\n",
    "\n",
    "df[\"date\"] = pd.to_datetime(df[\"date\"], errors=\"coerce\")\n",
    "df = df.dropna(subset=[\"date\"])  # Remove rows with invalid dates\n",
    "\n",
    "#YYYY-MM format\n",
    "df[\"month\"] = df[\"date\"].dt.to_period(\"M\").astype(str)\n",
    "\n",
    "sentiment_score_map = {\n",
    "    \"Positive\": 1,\n",
    "    \"Negative\": -1,\n",
    "    \"Neutral\": 0\n",
    "}\n",
    "df[\"score\"] = df[\"sentiment\"].map(sentiment_score_map)\n",
    "\n",
    "#Group by sender and month, then sum the scores\n",
    "monthly_scores = df.groupby([\"from\", \"month\"])[\"score\"].sum().reset_index()\n",
    "\n",
    "#Rename columns for clarity\n",
    "monthly_scores.columns = [\"employee\", \"month\", \"sentiment_score\"]\n",
    "\n",
    "output_path = os.path.join(os.getcwd(), \"monthly_employee_scores.csv\")\n",
    "monthly_scores.to_csv(output_path, index=False)\n",
    "print(\"Done.\")\n",
    "print(monthly_scores.head())\n",
    "print(f\"\\nSaved to: {output_path}\")\n"
   ]
  }
 ],
 "metadata": {
  "kernelspec": {
   "display_name": "Python 3",
   "language": "python",
   "name": "python3"
  },
  "language_info": {
   "codemirror_mode": {
    "name": "ipython",
    "version": 3
   },
   "file_extension": ".py",
   "mimetype": "text/x-python",
   "name": "python",
   "nbconvert_exporter": "python",
   "pygments_lexer": "ipython3",
   "version": "3.8.2"
  }
 },
 "nbformat": 4,
 "nbformat_minor": 5
}
