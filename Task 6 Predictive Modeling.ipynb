{
 "cells": [
  {
   "cell_type": "code",
   "execution_count": 1,
   "id": "fd79f100",
   "metadata": {},
   "outputs": [
    {
     "name": "stdout",
     "output_type": "stream",
     "text": [
      "Model Evaluation:\n",
      "RMSE: 0.00910658176934058\n",
      "R²: 0.9557954757698793\n",
      "Coefficients: {'lag_1_sentiment': 0.004782872722235317, 'extreme_ratio': 2.6310870155717954, 'sentiment_std': -2.807715727848879}\n"
     ]
    }
   ],
   "source": [
    "import pandas as pd\n",
    "import numpy as np\n",
    "from sklearn.linear_model import LinearRegression\n",
    "from sklearn.metrics import mean_squared_error, r2_score\n",
    "from sklearn.model_selection import train_test_split\n",
    "\n",
    "df = pd.read_csv(\"sentiment_practice_output.csv\")\n",
    "df['date'] = pd.to_datetime(df['date'], dayfirst=True)\n",
    "df['sentiment_score'] = df['sentiment'].map({'Positive': 1, 'Neutral': 0, 'Negative': -1})\n",
    "df['month'] = df['date'].dt.to_period('M')\n",
    "\n",
    "# Monthly average sentiment\n",
    "monthly_avg = df.groupby('month')['sentiment_score'].mean().reset_index()\n",
    "monthly_avg['month'] = monthly_avg['month'].dt.to_timestamp()\n",
    "monthly_avg['lag_1_sentiment'] = monthly_avg['sentiment_score'].shift(1)\n",
    "monthly_avg.dropna(inplace=True)\n",
    "\n",
    "# Monthly sentiment proportions\n",
    "monthly_sentiment_counts = df.groupby(['month', 'sentiment']).size().unstack(fill_value=0)\n",
    "monthly_sentiment_counts['total'] = monthly_sentiment_counts.sum(axis=1)\n",
    "monthly_sentiment_counts['positive_ratio'] = monthly_sentiment_counts.get('Positive', 0) / monthly_sentiment_counts['total']\n",
    "monthly_sentiment_counts['negative_ratio'] = monthly_sentiment_counts.get('Negative', 0) / monthly_sentiment_counts['total']\n",
    "monthly_sentiment_counts = monthly_sentiment_counts[['positive_ratio', 'negative_ratio']].reset_index()\n",
    "monthly_sentiment_counts['month'] = monthly_sentiment_counts['month'].dt.to_timestamp()\n",
    "\n",
    "# Merge with main table\n",
    "monthly_df = pd.merge(monthly_avg, monthly_sentiment_counts, on='month', how='inner')\n",
    "monthly_df['extreme_ratio'] = monthly_df['positive_ratio'] + monthly_df['negative_ratio']\n",
    "\n",
    "# Add sentiment standard deviation\n",
    "monthly_std = df.groupby('month')['sentiment_score'].std().reset_index(name='sentiment_std')\n",
    "monthly_std['month'] = monthly_std['month'].dt.to_timestamp()\n",
    "monthly_df = pd.merge(monthly_df, monthly_std, on='month', how='inner')\n",
    "\n",
    "# Final features and target\n",
    "X = monthly_df[['lag_1_sentiment', 'extreme_ratio', 'sentiment_std']]\n",
    "y = monthly_df['sentiment_score']\n",
    "\n",
    "# Train/test split\n",
    "X_train, X_test, y_train, y_test = train_test_split(X, y, test_size=0.2, random_state=42)\n",
    "\n",
    "# Train and evaluate model\n",
    "model = LinearRegression()\n",
    "model.fit(X_train, y_train)\n",
    "y_pred = model.predict(X_test)\n",
    "\n",
    "rmse = np.sqrt(mean_squared_error(y_test, y_pred))\n",
    "r2 = r2_score(y_test, y_pred)\n",
    "coefficients = dict(zip(X.columns, model.coef_))\n",
    "\n",
    "print(\"Model Evaluation:\")\n",
    "print(\"RMSE:\", rmse)\n",
    "print(\"R²:\", r2)\n",
    "print(\"Coefficients:\", coefficients)\n"
   ]
  }
 ],
 "metadata": {
  "kernelspec": {
   "display_name": "Python 3",
   "language": "python",
   "name": "python3"
  },
  "language_info": {
   "codemirror_mode": {
    "name": "ipython",
    "version": 3
   },
   "file_extension": ".py",
   "mimetype": "text/x-python",
   "name": "python",
   "nbconvert_exporter": "python",
   "pygments_lexer": "ipython3",
   "version": "3.8.2"
  }
 },
 "nbformat": 4,
 "nbformat_minor": 5
}
