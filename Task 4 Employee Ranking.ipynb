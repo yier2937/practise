{
 "cells": [
  {
   "cell_type": "code",
   "execution_count": null,
   "id": "d1ab15d3",
   "metadata": {},
   "outputs": [
    {
     "name": "stdout",
     "output_type": "stream",
     "text": [
      "Done.\n"
     ]
    }
   ],
   "source": [
    "import pandas as pd\n",
    "\n",
    "df = pd.read_csv(\"sentiment_practice_output.csv\")\n",
    "df[\"date\"] = pd.to_datetime(df[\"date\"], dayfirst=True)\n",
    "df[\"month\"] = df[\"date\"].dt.to_period(\"M\").astype(str)\n",
    "score_map = {\"Positive\": 1, \"Neutral\": 0, \"Negative\": -1}\n",
    "df[\"score\"] = df[\"sentiment\"].map(score_map)\n",
    "\n",
    "#Calculate monthly sentiment scores per employee\n",
    "monthly_scores = (\n",
    "    df.groupby([\"from\", \"month\"])[\"score\"]\n",
    "    .sum()\n",
    "    .reset_index()\n",
    "    .rename(columns={\"from\": \"employee\", \"score\": \"monthly_sentiment_score\"})\n",
    ")\n",
    "\n",
    "#Top 3 Positive employees per month\n",
    "top_positive = (\n",
    "    monthly_scores[monthly_scores[\"monthly_sentiment_score\"] > 0]\n",
    "    .sort_values(by=[\"month\", \"monthly_sentiment_score\", \"employee\"], ascending=[True, False, True])\n",
    "    .groupby(\"month\")\n",
    "    .head(3)\n",
    "    .assign(ranking=lambda x: x.groupby(\"month\").cumcount() + 1)\n",
    "    .reset_index(drop=True)\n",
    ")\n",
    "\n",
    "#Top 3 Negative employees per month\n",
    "top_negative = (\n",
    "    monthly_scores[monthly_scores[\"monthly_sentiment_score\"] < 0]\n",
    "    .sort_values(by=[\"month\", \"monthly_sentiment_score\", \"employee\"], ascending=[True, True, True])\n",
    "    .groupby(\"month\")\n",
    "    .head(3)\n",
    "    .assign(ranking=lambda x: x.groupby(\"month\").cumcount() + 1)\n",
    "    .reset_index(drop=True)\n",
    ")\n",
    "\n",
    "top_positive.to_csv(\"top_positive_employees.csv\", index=False)\n",
    "top_negative.to_csv(\"top_negative_employees.csv\", index=False)\n",
    "print(\"Done.\")\n"
   ]
  }
 ],
 "metadata": {
  "kernelspec": {
   "display_name": "Python 3",
   "language": "python",
   "name": "python3"
  },
  "language_info": {
   "codemirror_mode": {
    "name": "ipython",
    "version": 3
   },
   "file_extension": ".py",
   "mimetype": "text/x-python",
   "name": "python",
   "nbconvert_exporter": "python",
   "pygments_lexer": "ipython3",
   "version": "3.8.2"
  }
 },
 "nbformat": 4,
 "nbformat_minor": 5
}
